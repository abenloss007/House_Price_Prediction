{
 "cells": [
  {
   "cell_type": "code",
   "execution_count": 1,
   "metadata": {},
   "outputs": [],
   "source": [
    "import os\n",
    "import pandas as pd\n",
    "import numpy as np"
   ]
  },
  {
   "cell_type": "code",
   "execution_count": 2,
   "metadata": {},
   "outputs": [],
   "source": [
    "redfin_url = 'https://redfin-public-data.s3.us-west-2.amazonaws.com/redfin_market_tracker/zip_code_market_tracker.tsv000.gz'\n",
    "df_redfin = pd.read_csv(redfin_url, sep=\"\\t\")\n",
    "#df_redfin.info(memory_usage='deep')"
   ]
  },
  {
   "cell_type": "code",
   "execution_count": 5,
   "metadata": {},
   "outputs": [],
   "source": [
    "# Extract only the zipcode from region column\n",
    "df_redfin.columns = df_redfin.columns.str.lower()\n",
    "df_redfin = df_redfin[df_redfin[\"region\"].str.contains(\"Zip Code:\")]\n",
    "df_redfin[\"ZIP\"] = pd.to_numeric(df_redfin[\"region\"].str.extract(r\"Zip Code:\\s*(\\d{5})\")[0], errors=\"coerce\")"
   ]
  },
  {
   "cell_type": "code",
   "execution_count": 6,
   "metadata": {},
   "outputs": [],
   "source": [
    "# rename and select only relevant columns \n",
    "selected_cols = {\n",
    "    \"ZIP\": \"zip_code\",\n",
    "    \"state_code\": \"state\",\n",
    "    \"property_type\": \"property_type\",\n",
    "    \"median_list_price\": \"list_price\",\n",
    "    \"median_ppsf\": \"price_per_sqft\",\n",
    "    \"median_list_ppsf\": \"list_price_per_sqft\",\n",
    "    \"inventory\": \"active_inventory\",\n",
    "    \"new_listings\": \"new_listings\",\n",
    "    \"pending_sales\": \"pending_sales\",\n",
    "    \"avg_sale_to_list\": \"sale_to_list_ratio\",\n",
    "    \"sold_above_list\": \"percent_above_list\",\n",
    "    \"off_market_in_two_weeks\": \"off_market_2w\",\n",
    "    \"homes_sold\": \"homes_sold\",\n",
    "    \"median_sale_price\": \"predicted_price\",\n",
    "    \"median_dom\": \"predicted_days_on_market\",\n",
    "}\n",
    "\n",
    "df_model_ready = df_redfin[list(selected_cols.keys())].rename(columns=selected_cols)\n",
    "\n",
    "# convert columns to float where applicable\n",
    "\n",
    "columns_to_float = [col for col in df_model_ready.columns if col not in [\"zip_code\", \"state\", \"property_type\"]]\n",
    "df_model_ready[columns_to_float] = df_model_ready[columns_to_float].apply(pd.to_numeric, errors=\"coerce\")\n"
   ]
  },
  {
   "cell_type": "code",
   "execution_count": 7,
   "metadata": {},
   "outputs": [],
   "source": [
    "# Want to add crime rate onto data by state\n",
    "crime_path = \"Crimes_Merged_Cleaned.xlsx\"\n",
    "\n",
    "df_crime = pd.read_excel(crime_path, header=4)\n",
    "df_crime = df_crime[[\"State\", \"Unnamed: 1\", \"Total\"]]\n",
    "df_crime.columns = [\"state\", \"Population_Covered\", \"Total\"]\n",
    "\n",
    "# state names to abbreviations\n",
    "state_abbrev_map = {\n",
    "    'Alabama': 'AL', 'Alaska': 'AK', 'Arizona': 'AZ', 'Arkansas': 'AR',\n",
    "    'California': 'CA', 'Colorado': 'CO', 'Connecticut': 'CT', 'Delaware': 'DE',\n",
    "    'District of Columbia': 'DC', 'Florida': 'FL', 'Georgia': 'GA',\n",
    "    'Hawaii': 'HI', 'Idaho': 'ID', 'Illinois': 'IL', 'Indiana': 'IN',\n",
    "    'Iowa': 'IA', 'Kansas': 'KS', 'Kentucky': 'KY', 'Louisiana': 'LA',\n",
    "    'Maine': 'ME', 'Maryland': 'MD', 'Massachusetts': 'MA', 'Michigan': 'MI',\n",
    "    'Minnesota': 'MN', 'Mississippi': 'MS', 'Missouri': 'MO', 'Montana': 'MT',\n",
    "    'Nebraska': 'NE', 'Nevada': 'NV', 'New Hampshire': 'NH', 'New Jersey': 'NJ',\n",
    "    'New Mexico': 'NM', 'New York': 'NY', 'North Carolina': 'NC',\n",
    "    'North Dakota': 'ND', 'Ohio': 'OH', 'Oklahoma': 'OK', 'Oregon': 'OR',\n",
    "    'Pennsylvania': 'PA', 'Rhode Island': 'RI', 'South Carolina': 'SC',\n",
    "    'South Dakota': 'SD', 'Tennessee': 'TN', 'Texas': 'TX', 'Utah': 'UT',\n",
    "    'Vermont': 'VT', 'Virginia': 'VA', 'Washington': 'WA',\n",
    "    'West Virginia': 'WV', 'Wisconsin': 'WI', 'Wyoming': 'WY'\n",
    "}\n",
    "df_crime[\"state\"] = df_crime[\"state\"].map(state_abbrev_map)\n",
    "\n",
    "\n",
    "df_crime = df_crime[df_crime[\"state\"] != \"Total\"]\n",
    "df_crime[\"Population_Covered\"] = pd.to_numeric(df_crime[\"Population_Covered\"], errors=\"coerce\")\n",
    "df_crime[\"Total\"] = pd.to_numeric(df_crime[\"Total\"], errors=\"coerce\")\n",
    "\n",
    "# scale crime rate\n",
    "df_crime[\"crimes_per_100k\"] = (df_crime[\"Total\"] / df_crime[\"Population_Covered\"]) * 100_000\n",
    "\n",
    "#merge crime onto redfin\n",
    "df_model_ready[\"state\"] = df_model_ready[\"state\"].str.strip().str.upper()\n",
    "df_crime[\"state\"] = df_crime[\"state\"].str.strip().str.upper()\n",
    "df_model_ready = df_model_ready.merge(df_crime[[\"state\", \"crimes_per_100k\"]], on=\"state\", how=\"left\")\n",
    "\n",
    "#print(df_model_ready.head())"
   ]
  },
  {
   "cell_type": "code",
   "execution_count": 8,
   "metadata": {
    "scrolled": true
   },
   "outputs": [],
   "source": [
    "group_cols = [\"zip_code\", \"property_type\"]\n",
    "numeric_cols = [\n",
    "    col for col in df_model_ready.columns\n",
    "    if col not in [\"zip_code\", \"state\", \"property_type\"]\n",
    "]\n",
    "\n",
    "# impute group-wise mean, then global mean as backup\n",
    "for col_name in numeric_cols:\n",
    "    group_mean = df_model_ready.groupby(group_cols)[col_name].transform(\"mean\")\n",
    "    global_mean = df_model_ready[col_name].mean()\n",
    "    \n",
    "    df_model_ready[col_name] = df_model_ready[col_name].fillna(group_mean)\n",
    "    df_model_ready[col_name] = df_model_ready[col_name].fillna(global_mean)\n"
   ]
  },
  {
   "cell_type": "code",
   "execution_count": null,
   "metadata": {},
   "outputs": [],
   "source": [
    "df_model_ready.rename(columns={\n",
    "    'predicted_price': 'avg_price_sold',\n",
    "    'predicted_days_on_market': 'avg_days_on_market',\n",
    "    'list_price': 'avg_listed_price',\n",
    "    'price_per_sqft': 'avg_price_per_sqft',\n",
    "    'list_price_per_sqft': 'avg_list_price_per_sqft',\n",
    "    'predicted_days_on_market': 'avg_days_on_market'\n",
    "}, inplace=True)\n",
    "\n",
    "cols_to_keep = [\n",
    "    'zip_code',\n",
    "    'property_type',\n",
    "    'active_inventory',\n",
    "    'new_listings',\n",
    "    'pending_sales',\n",
    "    'homes_sold',\n",
    "    'sale_to_list_ratio',\n",
    "    'percent_above_list',\n",
    "    'avg_days_on_market',\n",
    "    'crimes_per_100k',\n",
    "    'off_market_2w',\n",
    "    'avg_list_price_per_sqft',\n",
    "    'avg_listed_price',\n",
    "    'avg_price_per_sqft',\n",
    "    'avg_price_sold'\n",
    "]\n",
    "\n",
    "\n",
    "df_model_ready = df_model_ready[cols_to_keep]\n",
    "\n",
    "# export to CSV\n",
    "output_path = os.path.join(os.getcwd(), \"redfin_with_crime.csv\")\n",
    "df_model_ready.to_csv(output_path, index=False)"
   ]
  }
 ],
 "metadata": {
  "application/vnd.databricks.v1+notebook": {
   "computePreferences": null,
   "dashboards": [],
   "environmentMetadata": {
    "base_environment": "",
    "environment_version": "2"
   },
   "inputWidgetPreferences": null,
   "language": "python",
   "notebookMetadata": {
    "mostRecentlyExecutedCommandWithImplicitDF": {
     "commandId": 179313175968622,
     "dataframes": [
      "_sqldf"
     ]
    },
    "pythonIndentUnit": 4
   },
   "notebookName": "CleaningRedFinDataset",
   "widgets": {}
  },
  "kernelspec": {
   "display_name": "Python 3",
   "language": "python",
   "name": "python3"
  },
  "language_info": {
   "codemirror_mode": {
    "name": "ipython",
    "version": 3
   },
   "file_extension": ".py",
   "mimetype": "text/x-python",
   "name": "python",
   "nbconvert_exporter": "python",
   "pygments_lexer": "ipython3",
   "version": "3.8.5"
  }
 },
 "nbformat": 4,
 "nbformat_minor": 1
}
